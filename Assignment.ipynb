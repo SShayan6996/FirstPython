{
 "cells": [
  {
   "cell_type": "code",
   "execution_count": 1,
   "metadata": {},
   "outputs": [
    {
     "name": "stdout",
     "output_type": "stream",
     "text": [
      "Shayan Ahmed\n"
     ]
    }
   ],
   "source": [
    "print(\"Shayan Ahmed\");"
   ]
  },
  {
   "cell_type": "code",
   "execution_count": 2,
   "metadata": {},
   "outputs": [
    {
     "name": "stdout",
     "output_type": "stream",
     "text": [
      "Hum kyon chale us rah par jis rah par sab hi chale\n",
      "Kyon na chale us rah par jis rah par koi na gaya\n"
     ]
    }
   ],
   "source": [
    "print(\"Hum kyon chale us rah par jis rah par sab hi chale\");\n",
    "print(\"Kyon na chale us rah par jis rah par koi na gaya\");"
   ]
  },
  {
   "cell_type": "code",
   "execution_count": null,
   "metadata": {},
   "outputs": [],
   "source": [
    "print(\"Kyon na chale us rah par jis rah par koi na gaya\");"
   ]
  }
 ],
 "metadata": {
  "kernelspec": {
   "display_name": "Python 3",
   "language": "python",
   "name": "python3"
  },
  "language_info": {
   "codemirror_mode": {
    "name": "ipython",
    "version": 3
   },
   "file_extension": ".py",
   "mimetype": "text/x-python",
   "name": "python",
   "nbconvert_exporter": "python",
   "pygments_lexer": "ipython3",
   "version": "3.8.5"
  }
 },
 "nbformat": 4,
 "nbformat_minor": 4
}
